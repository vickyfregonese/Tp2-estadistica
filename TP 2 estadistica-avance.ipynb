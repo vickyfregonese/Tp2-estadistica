{
 "cells": [
  {
   "cell_type": "markdown",
   "id": "45896c27",
   "metadata": {},
   "source": [
    "#X , Y   ->  x_1:n \n",
    "\n",
    "       E(y|x;b) =   f( x_1:n ; b ) ->    y_1:n\n",
    "\n",
    "#Dada una muestra D=(X,Y) de tamaño n indexadas con un variable I = list(range(n))  \n",
    "\n",
    "#Repetir K veces el siguiente procedimiento:\n",
    "\n",
    "# 1) Samplear con repetición de I un vector I*_k de tamaño n \n",
    "\n",
    "# 2) Elegir las I*_k filas de D para generar un data set D*_k (de tamaño n)\n",
    "\n",
    "# 3) Usar D*_k para calcular un modelo de regresión f al que llameremos M*_k\n",
    "\n",
    "# 4) Extraer de M*_k los coeficientes del modelo al cual llamaremos b*_k"
   ]
  },
  {
   "cell_type": "code",
   "execution_count": 24,
   "id": "024040f4",
   "metadata": {},
   "outputs": [],
   "source": [
    "import numpy as np\n",
    "import pandas as pd\n",
    "import statsmodels.api as sm\n",
    "import matplotlib.pyplot as plt "
   ]
  },
  {
   "cell_type": "code",
   "execution_count": 25,
   "id": "a30faf99",
   "metadata": {},
   "outputs": [],
   "source": [
    "n=50\n",
    "D=np.random.rand(n,2)   #valores aleatorios, podrian ser cualquier numero\n",
    "K=10000"
   ]
  },
  {
   "cell_type": "code",
   "execution_count": 26,
   "id": "49956014",
   "metadata": {},
   "outputs": [],
   "source": [
    "I=list(range(n))\n",
    "B=np.zeros((K,2)) #matriz de 0, con k filas y dos columnas\n",
    "for k in range(K):\n",
    "    #punto1: agarro n indices del 0 al n- \n",
    "    I_k=np.random.choice(I,size=n,replace=True)\n",
    "    #punto2: del dataset D, agarro filas de los indices I_k\n",
    "    D_k=D[I_k]\n",
    "    #punto3: hago la regresión con D_k, donde x van a ser las filas y la primer columna (D_k[:,0])\n",
    "    #y van a ser todas las filas de la segunda columna(D_k[:,1])\n",
    "    M_k=sm.OLS(sm.add_constant(D_k[:,0]),D_k[:,1])\n",
    "    resultado=M_k.fit()\n",
    "    #punto4: me quedo con coeficientes de la regresion\n",
    "    b_k=resultado.params[0] #guardo coeficientes que calcule\n",
    "    B[k]=b_k"
   ]
  },
  {
   "cell_type": "markdown",
   "id": "7323d257",
   "metadata": {},
   "source": [
    "# Si quiero la distribución de los coeficientes:\n",
    "\n",
    "# i) Calcular para cada coeficiente los cuantiles 0.025,0.25,0.5,0.75,0.9725 (en un mundo benigno, obtinese un intervalo de confianza de nivel alpha=0.95"
   ]
  },
  {
   "cell_type": "code",
   "execution_count": 27,
   "id": "afb4e956",
   "metadata": {},
   "outputs": [
    {
     "data": {
      "text/plain": [
       "0.8893455053428226"
      ]
     },
     "execution_count": 27,
     "metadata": {},
     "output_type": "execute_result"
    }
   ],
   "source": [
    "quantile1 = np.quantile(B, 0.025)\n",
    "quantile1"
   ]
  },
  {
   "cell_type": "code",
   "execution_count": 28,
   "id": "9d7b8470",
   "metadata": {},
   "outputs": [
    {
     "data": {
      "text/plain": [
       "1.0370631723759276"
      ]
     },
     "execution_count": 28,
     "metadata": {},
     "output_type": "execute_result"
    }
   ],
   "source": [
    "quantile2 = np.quantile(B, 0.25)\n",
    "quantile2"
   ]
  },
  {
   "cell_type": "code",
   "execution_count": 29,
   "id": "769351d0",
   "metadata": {},
   "outputs": [
    {
     "data": {
      "text/plain": [
       "1.4364525463021862"
      ]
     },
     "execution_count": 29,
     "metadata": {},
     "output_type": "execute_result"
    }
   ],
   "source": [
    "quantile3 = np.quantile(B, 0.5)\n",
    "quantile3"
   ]
  },
  {
   "cell_type": "code",
   "execution_count": 30,
   "id": "f6bc82cd",
   "metadata": {},
   "outputs": [
    {
     "data": {
      "text/plain": [
       "1.699334706300402"
      ]
     },
     "execution_count": 30,
     "metadata": {},
     "output_type": "execute_result"
    }
   ],
   "source": [
    "quantile4 = np.quantile(B, 0.75)\n",
    "quantile4"
   ]
  },
  {
   "cell_type": "code",
   "execution_count": 31,
   "id": "68dd706e",
   "metadata": {},
   "outputs": [
    {
     "data": {
      "text/plain": [
       "1.8786586444702238"
      ]
     },
     "execution_count": 31,
     "metadata": {},
     "output_type": "execute_result"
    }
   ],
   "source": [
    "quantile5 = np.quantile(B, 0.9725)\n",
    "quantile5"
   ]
  },
  {
   "cell_type": "markdown",
   "id": "e8f232ea",
   "metadata": {},
   "source": [
    "# ii) Histograma de cada coeficiente"
   ]
  },
  {
   "cell_type": "code",
   "execution_count": 32,
   "id": "60fe3e53",
   "metadata": {},
   "outputs": [
    {
     "data": {
      "text/plain": [
       "(array([[0.000e+00, 0.000e+00, 0.000e+00, 0.000e+00, 6.900e+01, 3.504e+03,\n",
       "         5.274e+03, 1.058e+03, 9.000e+01, 5.000e+00],\n",
       "        [2.990e+02, 4.347e+03, 4.645e+03, 6.920e+02, 1.600e+01, 1.000e+00,\n",
       "         0.000e+00, 0.000e+00, 0.000e+00, 0.000e+00]]),\n",
       " array([0.70925147, 0.8686978 , 1.02814413, 1.18759047, 1.3470368 ,\n",
       "        1.50648313, 1.66592946, 1.82537579, 1.98482212, 2.14426845,\n",
       "        2.30371479]),\n",
       " <a list of 2 BarContainer objects>)"
      ]
     },
     "execution_count": 32,
     "metadata": {},
     "output_type": "execute_result"
    },
    {
     "data": {
      "image/png": "[encoded data removed]",
      "text/plain": [
       "<Figure size 432x288 with 1 Axes>"
      ]
     },
     "metadata": {
      "needs_background": "light"
     },
     "output_type": "display_data"
    }
   ],
   "source": [
    "plt.hist(B)"
   ]
  },
  {
   "cell_type": "markdown",
   "id": "bad659f7",
   "metadata": {},
   "source": [
    "# Si quiero la distribución predictiva de y^pred dado un x_nuevo, entonces:\n",
    "\n",
    "\n",
    "# i) itero sobre cada uno de los B*_K (cada uno de los b*_k valores)\n",
    "\n",
    "\t# i.1) le aplico esos valores al modelo de regresión de f para predecir el valor de y^pred_k con\n",
    "\n",
    "\t\t# y^pred_k = f( x_nuevo ; b*_k )\n",
    "\t\t\n",
    "# ii) Calcular para cada y^pred dado x_new los cuantiles 0.025,0.25,0.5,0.75,0.9725 (en un mundo benigno, obtinese un intervalo de confianza de nivel alpha=0.95\n",
    "\n",
    "# iii) Histograma de cada y^pred que me interese\n"
   ]
  },
  {
   "cell_type": "code",
   "execution_count": null,
   "id": "6dc7c7f2",
   "metadata": {},
   "outputs": [],
   "source": [
    "y = b_k['y']   #valores de y\n",
    "x = b_k['x']    #valores de x\n",
    "modelo = sm.OLS(y,x)\n",
    "resultados = modelo.fit()\n",
    "coeficiente = resultados.params[1] #coeficiente de x\n",
    "\n",
    "prediccion=resultado.params[0] #guardo mis y para predecir\n",
    "prediccion.append(resultados.predict(b_k['x']))\n",
    "\n",
    "b_k.append(coeficiente)\n",
    "quantile1.append(coeficiente.quantile(0.025)) #ii) saco nuevamente los cuantiles\n",
    "quantile2.append(coeficiente.quantile(0.25))\n",
    "quantile3.append(coeficiente.quantile(0.5))\n",
    "quantile4.append(coeficiente.quantile(0.75))\n",
    "quantile5.append(coeficiente.quantile(0.9725))\n",
    "\n"
   ]
  }
 ],
 "metadata": {
  "kernelspec": {
   "display_name": "Python 3",
   "language": "python",
   "name": "python3"
  },
  "language_info": {
   "codemirror_mode": {
    "name": "ipython",
    "version": 3
   },
   "file_extension": ".py",
   "mimetype": "text/x-python",
   "name": "python",
   "nbconvert_exporter": "python",
   "pygments_lexer": "ipython3",
   "version": "3.8.8"
  }
 },
 "nbformat": 4,
 "nbformat_minor": 5
}
