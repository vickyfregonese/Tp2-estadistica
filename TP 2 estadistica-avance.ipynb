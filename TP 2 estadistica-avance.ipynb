{
 "cells": [
  {
   "cell_type": "markdown",
   "id": "45896c27",
   "metadata": {},
   "source": [
    "#X , Y   ->  x_1:n \n",
    "\n",
    "       E(y|x;b) =   f( x_1:n ; b ) ->    y_1:n\n",
    "\n",
    "#Dada una muestra D=(X,Y) de tamaño n indexadas con un variable I = list(range(n))  \n",
    "\n",
    "#Repetir K veces el siguiente procedimiento:\n",
    "\n",
    "# 1) Samplear con repetición de I un vector I*_k de tamaño n \n",
    "\n",
    "# 2) Elegir las I*_k filas de D para generar un data set D*_k (de tamaño n)\n",
    "\n",
    "# 3) Usar D*_k para calcular un modelo de regresión f al que llameremos M*_k\n",
    "\n",
    "# 4) Extraer de M*_k los coeficientes del modelo al cual llamaremos b*_k"
   ]
  },
  {
   "cell_type": "code",
   "execution_count": 1,
   "id": "024040f4",
   "metadata": {},
   "outputs": [],
   "source": [
    "import numpy as np\n",
    "import pandas as pd\n",
    "import statsmodels.api as sm\n",
    "import matplotlib.pyplot as plt "
   ]
  },
  {
   "cell_type": "code",
   "execution_count": 2,
   "id": "a30faf99",
   "metadata": {},
   "outputs": [],
   "source": [
    "n=50\n",
    "D=np.random.rand(n,2)   #valores aleatorios, podrian ser cualquier numero\n",
    "K=10000"
   ]
  },
  {
   "cell_type": "code",
   "execution_count": 3,
   "id": "49956014",
   "metadata": {},
   "outputs": [],
   "source": [
    "I=list(range(n))\n",
    "B=np.zeros((K,2)) #matriz de 0, con k filas y dos columnas\n",
    "for k in range(K):\n",
    "    #punto1: agarro n indices del 0 al n- \n",
    "    I_k=np.random.choice(I,size=n,replace=True)\n",
    "    #punto2: del dataset D, agarro filas de los indices I_k\n",
    "    D_k=D[I_k]\n",
    "    #punto3: hago la regresión con D_k, donde x van a ser las filas y la primer columna (D_k[:,0])\n",
    "    #y van a ser todas las filas de la segunda columna(D_k[:,1])\n",
    "    M_k=sm.OLS(sm.add_constant(D_k[:,0]),D_k[:,1])\n",
    "    resultado=M_k.fit()\n",
    "    #punto4: me quedo con coeficientes de la regresion\n",
    "    b_k=resultado.params[0] #guardo coeficientes que calcule\n",
    "    B[k]=b_k"
   ]
  },
  {
   "cell_type": "markdown",
   "id": "7323d257",
   "metadata": {},
   "source": [
    "# Si quiero la distribución de los coeficientes:\n",
    "\n",
    "# i) Calcular para cada coeficiente los cuantiles 0.025,0.25,0.5,0.75,0.9725 (en un mundo benigno, obtinese un intervalo de confianza de nivel alpha=0.95"
   ]
  },
  {
   "cell_type": "code",
   "execution_count": 4,
   "id": "afb4e956",
   "metadata": {},
   "outputs": [
    {
     "data": {
      "text/plain": [
       "0.6796333274259343"
      ]
     },
     "execution_count": 4,
     "metadata": {},
     "output_type": "execute_result"
    }
   ],
   "source": [
    "np.quantile(B, 0.025)"
   ]
  },
  {
   "cell_type": "code",
   "execution_count": 5,
   "id": "9d7b8470",
   "metadata": {},
   "outputs": [
    {
     "data": {
      "text/plain": [
       "0.8172403057598491"
      ]
     },
     "execution_count": 5,
     "metadata": {},
     "output_type": "execute_result"
    }
   ],
   "source": [
    "np.quantile(B, 0.25)"
   ]
  },
  {
   "cell_type": "code",
   "execution_count": 6,
   "id": "769351d0",
   "metadata": {},
   "outputs": [
    {
     "data": {
      "text/plain": [
       "1.2786406342976204"
      ]
     },
     "execution_count": 6,
     "metadata": {},
     "output_type": "execute_result"
    }
   ],
   "source": [
    "np.quantile(B, 0.5)"
   ]
  },
  {
   "cell_type": "code",
   "execution_count": 7,
   "id": "f6bc82cd",
   "metadata": {},
   "outputs": [
    {
     "data": {
      "text/plain": [
       "1.5147502675821312"
      ]
     },
     "execution_count": 7,
     "metadata": {},
     "output_type": "execute_result"
    }
   ],
   "source": [
    "np.quantile(B, 0.75)"
   ]
  },
  {
   "cell_type": "code",
   "execution_count": 8,
   "id": "68dd706e",
   "metadata": {},
   "outputs": [
    {
     "data": {
      "text/plain": [
       "1.6397096814577454"
      ]
     },
     "execution_count": 8,
     "metadata": {},
     "output_type": "execute_result"
    }
   ],
   "source": [
    "np.quantile(B, 0.9725)"
   ]
  },
  {
   "cell_type": "markdown",
   "id": "e8f232ea",
   "metadata": {},
   "source": [
    "# ii) Histograma de cada coeficiente"
   ]
  },
  {
   "cell_type": "code",
   "execution_count": 9,
   "id": "60fe3e53",
   "metadata": {},
   "outputs": [
    {
     "data": {
      "text/plain": [
       "(array([[0.000e+00, 0.000e+00, 0.000e+00, 0.000e+00, 0.000e+00, 3.000e+00,\n",
       "         1.610e+03, 6.360e+03, 1.917e+03, 1.100e+02],\n",
       "        [5.050e+02, 4.059e+03, 4.455e+03, 9.300e+02, 4.800e+01, 3.000e+00,\n",
       "         0.000e+00, 0.000e+00, 0.000e+00, 0.000e+00]]),\n",
       " array([0.55159971, 0.67991246, 0.80822521, 0.93653796, 1.06485071,\n",
       "        1.19316346, 1.32147622, 1.44978897, 1.57810172, 1.70641447,\n",
       "        1.83472722]),\n",
       " <a list of 2 BarContainer objects>)"
      ]
     },
     "execution_count": 9,
     "metadata": {},
     "output_type": "execute_result"
    },
    {
     "data": {
      "image/png": "[encoded data removed]",
      "text/plain": [
       "<Figure size 432x288 with 1 Axes>"
      ]
     },
     "metadata": {
      "needs_background": "light"
     },
     "output_type": "display_data"
    }
   ],
   "source": [
    "plt.hist(B)"
   ]
  },
  {
   "cell_type": "markdown",
   "id": "bad659f7",
   "metadata": {},
   "source": [
    "# Si quiero la distribución predictiva de y^pred dado un x_nuevo, entonces:\n",
    "\n",
    "\n",
    "# i) itero sobre cada uno de los B*_K (cada uno de los b*_k valores)\n",
    "\n",
    "\t# i.1) le aplico esos valores al modelo de regresión de f para predecir el valor de y^pred_k con\n",
    "\n",
    "\t\t# y^pred_k = f( x_nuevo ; b*_k )\n",
    "\t\t\n",
    "# ii) Calcular para cada y^pred dado x_new los cuantiles 0.025,0.25,0.5,0.75,0.9725 (en un mundo benigno, obtinese un intervalo de confianza de nivel alpha=0.95\n",
    "\n",
    "# iii) Histograma de cada y^pred que me interese\n"
   ]
  },
  {
   "cell_type": "code",
   "execution_count": 10,
   "id": "94df05f7",
   "metadata": {},
   "outputs": [
    {
     "ename": "NameError",
     "evalue": "name 'olsres' is not defined",
     "output_type": "error",
     "traceback": [
      "\u001b[1;31m---------------------------------------------------------------------------\u001b[0m",
      "\u001b[1;31mNameError\u001b[0m                                 Traceback (most recent call last)",
      "\u001b[1;32m<ipython-input-10-b21c32857741>\u001b[0m in \u001b[0;36m<module>\u001b[1;34m\u001b[0m\n\u001b[1;32m----> 1\u001b[1;33m \u001b[0molsres\u001b[0m\u001b[1;33m.\u001b[0m\u001b[0mpredict\u001b[0m \u001b[1;33m(\u001b[0m\u001b[0mb_k\u001b[0m\u001b[1;33m)\u001b[0m\u001b[1;33m\u001b[0m\u001b[1;33m\u001b[0m\u001b[0m\n\u001b[0m",
      "\u001b[1;31mNameError\u001b[0m: name 'olsres' is not defined"
     ]
    }
   ],
   "source": [
    "olsres.predict (b_k)"
   ]
  }
 ],
 "metadata": {
  "kernelspec": {
   "display_name": "Python 3",
   "language": "python",
   "name": "python3"
  },
  "language_info": {
   "codemirror_mode": {
    "name": "ipython",
    "version": 3
   },
   "file_extension": ".py",
   "mimetype": "text/x-python",
   "name": "python",
   "nbconvert_exporter": "python",
   "pygments_lexer": "ipython3",
   "version": "3.8.8"
  }
 },
 "nbformat": 4,
 "nbformat_minor": 5
}
