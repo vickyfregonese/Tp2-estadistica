{
 "cells": [
  {
   "cell_type": "code",
   "execution_count": 60,
   "id": "bfc2c64d",
   "metadata": {},
   "outputs": [],
   "source": [
    "#X , Y   ->  x_1:n \n",
    "\n",
    "#       E(y|x;b) =   f( x_1:n ; b ) ->    y_1:n\n",
    "\n",
    "#Dada una muestra D=(X,Y) de tamaño n indexadas con un variable I = list(range(n))  \n",
    "\n",
    "#Repetir K veces el siguiente procedimiento:\n",
    "\n",
    "#1) Samplear con repetición de I un vector I*_k de tamaño n\n",
    "\n",
    "#2) Elegir las I*_k filas de D para generar un data set D*_k (de tamaño n)\n",
    "\n",
    "#3) Usar D*_k para calcular un modelo de regresión f al que llameremos M*_k\n",
    "\n",
    "#4) Extraer de M*_k los coeficientes del modelo al cual llamaremos b*_k"
   ]
  },
  {
   "cell_type": "code",
   "execution_count": 61,
   "id": "024040f4",
   "metadata": {},
   "outputs": [],
   "source": [
    "import numpy as np\n",
    "import pandas as pd\n",
    "import statsmodels.api as sm"
   ]
  },
  {
   "cell_type": "code",
   "execution_count": 62,
   "id": "a30faf99",
   "metadata": {},
   "outputs": [],
   "source": [
    "n=50\n",
    "D=np.random.rand(n,2)   #valores aleatorios, podrian ser cualquier numero\n",
    "K=10000"
   ]
  },
  {
   "cell_type": "code",
   "execution_count": 73,
   "id": "49956014",
   "metadata": {},
   "outputs": [],
   "source": [
    "I=list(range(n))\n",
    "B=np.zeros((K,2)) #matriz de 0, con k filas y dos columnas\n",
    "for k in range(K):\n",
    "    #punto1: agarro n indices del 0 al n- \n",
    "    I_k=np.random.choice(I,size=n,replace=True)\n",
    "    #punto2: del dataset D, agarro filas de los indices I_k\n",
    "    D_k=D[I_k]\n",
    "    #punto3: hago la regresión con D_k, donde x van a ser las filas y la primer columna (D_k[:,0])\n",
    "    #y van a ser todas las filas de la segunda columna(D_k[:,1])\n",
    "    M_k=sm.OLS(sm.add_constant(D_k[:,0]),D_k[:,1])\n",
    "    resultado=M_k.fit()\n",
    "    #punto4: me quedo con coeficientes de la regresion\n",
    "    b_k=resultado.params[0] #guardo coeficientes que calcule\n",
    "    B[k]=b_k"
   ]
  },
  {
   "cell_type": "markdown",
   "id": "7ccfbfd4",
   "metadata": {},
   "source": []
  },
  {
   "cell_type": "code",
   "execution_count": null,
   "id": "afb4e956",
   "metadata": {},
   "outputs": [],
   "source": []
  }
 ],
 "metadata": {
  "kernelspec": {
   "display_name": "Python 3",
   "language": "python",
   "name": "python3"
  },
  "language_info": {
   "codemirror_mode": {
    "name": "ipython",
    "version": 3
   },
   "file_extension": ".py",
   "mimetype": "text/x-python",
   "name": "python",
   "nbconvert_exporter": "python",
   "pygments_lexer": "ipython3",
   "version": "3.8.8"
  }
 },
 "nbformat": 4,
 "nbformat_minor": 5
}
