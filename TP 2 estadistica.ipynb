{
 "cells": [
  {
   "cell_type": "code",
   "execution_count": 1,
   "id": "bfc2c64d",
   "metadata": {},
   "outputs": [],
   "source": [
    "#X , Y   ->  x_1:n \n",
    "\n",
    "#       E(y|x;b) =   f( x_1:n ; b ) ->    y_1:n\n",
    "\n",
    "#Dada una muestra D=(X,Y) de tamaño n indexadas con un variable I = list(range(n))  \n",
    "\n",
    "#Repetir K veces el siguiente procedimiento:\n",
    "\n",
    "#1) Samplear con repetición de I un vector I*_k de tamaño n\n",
    "\n",
    "#2) Elegir las I*_k filas de D para generar un data set D*_k (de tamaño n)\n",
    "\n",
    "#3) Usar D*_k para calcular un modelo de regresión f al que llameremos M*_k\n",
    "\n",
    "#4) Extraer de M*_k los coeficientes del modelo al cual llamaremos b*_k"
   ]
  },
  {
   "cell_type": "code",
   "execution_count": 57,
   "id": "024040f4",
   "metadata": {},
   "outputs": [],
   "source": [
    "import numpy as np\n",
    "import pandas as pd\n",
    "import pandas\n",
    "import statsmodels.api as sm"
   ]
  },
  {
   "cell_type": "code",
   "execution_count": 58,
   "id": "a30faf99",
   "metadata": {},
   "outputs": [],
   "source": [
    "n=50\n",
    "D=np.random.rand(n,2)   #valores aleatorios, podrian ser cualquier numero\n",
    "K=10000"
   ]
  },
  {
   "cell_type": "code",
   "execution_count": 59,
   "id": "49956014",
   "metadata": {},
   "outputs": [
    {
     "ename": "NameError",
     "evalue": "name 'modelo_de_regresion' is not defined",
     "output_type": "error",
     "traceback": [
      "\u001b[1;31m---------------------------------------------------------------------------\u001b[0m",
      "\u001b[1;31mNameError\u001b[0m                                 Traceback (most recent call last)",
      "\u001b[1;32m<ipython-input-59-8d1dc1128124>\u001b[0m in \u001b[0;36m<module>\u001b[1;34m\u001b[0m\n\u001b[0;32m      3\u001b[0m \u001b[1;32mfor\u001b[0m \u001b[0mk\u001b[0m \u001b[1;32min\u001b[0m \u001b[0mrange\u001b[0m\u001b[1;33m(\u001b[0m\u001b[0mK\u001b[0m\u001b[1;33m)\u001b[0m\u001b[1;33m:\u001b[0m\u001b[1;33m\u001b[0m\u001b[1;33m\u001b[0m\u001b[0m\n\u001b[0;32m      4\u001b[0m     \u001b[0mI_K\u001b[0m\u001b[1;33m=\u001b[0m\u001b[0mnp\u001b[0m\u001b[1;33m.\u001b[0m\u001b[0mrandom\u001b[0m\u001b[1;33m.\u001b[0m\u001b[0mchoice\u001b[0m\u001b[1;33m(\u001b[0m\u001b[0mI\u001b[0m\u001b[1;33m,\u001b[0m\u001b[0msize\u001b[0m\u001b[1;33m=\u001b[0m\u001b[0mn\u001b[0m\u001b[1;33m,\u001b[0m\u001b[0mreplace\u001b[0m\u001b[1;33m=\u001b[0m\u001b[1;32mTrue\u001b[0m\u001b[1;33m)\u001b[0m\u001b[1;33m\u001b[0m\u001b[1;33m\u001b[0m\u001b[0m\n\u001b[1;32m----> 5\u001b[1;33m     \u001b[0mM_k\u001b[0m\u001b[1;33m=\u001b[0m\u001b[0mmodelo_de_regresion\u001b[0m\u001b[1;33m(\u001b[0m\u001b[0mD\u001b[0m\u001b[1;33m[\u001b[0m\u001b[0mI_K\u001b[0m\u001b[1;33m]\u001b[0m\u001b[1;33m)\u001b[0m\u001b[1;33m\u001b[0m\u001b[1;33m\u001b[0m\u001b[0m\n\u001b[0m\u001b[0;32m      6\u001b[0m     \u001b[0mb_k\u001b[0m\u001b[1;33m=\u001b[0m\u001b[0mM_k\u001b[0m\u001b[1;33m.\u001b[0m\u001b[0mcoeficientes\u001b[0m\u001b[1;33m\u001b[0m\u001b[1;33m\u001b[0m\u001b[0m\n\u001b[0;32m      7\u001b[0m     \u001b[0mB\u001b[0m\u001b[1;33m.\u001b[0m\u001b[0mappend\u001b[0m\u001b[1;33m(\u001b[0m\u001b[0mb_k\u001b[0m\u001b[1;33m)\u001b[0m\u001b[1;33m\u001b[0m\u001b[1;33m\u001b[0m\u001b[0m\n",
      "\u001b[1;31mNameError\u001b[0m: name 'modelo_de_regresion' is not defined"
     ]
    }
   ],
   "source": [
    "I=list(range(n))\n",
    "B=[]\n",
    "for k in range(K):\n",
    "    I_K=np.random.choice(I,size=n,replace=True)\n",
    "    M_k=modelo_de_regresion(D[I_K])\n",
    "    b_k=M_k.coeficientes\n",
    "    B.append(b_k)"
   ]
  },
  {
   "cell_type": "markdown",
   "id": "7ccfbfd4",
   "metadata": {},
   "source": []
  }
 ],
 "metadata": {
  "kernelspec": {
   "display_name": "Python 3",
   "language": "python",
   "name": "python3"
  },
  "language_info": {
   "codemirror_mode": {
    "name": "ipython",
    "version": 3
   },
   "file_extension": ".py",
   "mimetype": "text/x-python",
   "name": "python",
   "nbconvert_exporter": "python",
   "pygments_lexer": "ipython3",
   "version": "3.8.8"
  }
 },
 "nbformat": 4,
 "nbformat_minor": 5
}
